{
 "cells": [
  {
   "cell_type": "markdown",
   "id": "89f8d9fa-0d8f-4645-a42b-6fe9447355e5",
   "metadata": {
    "editable": true,
    "slideshow": {
     "slide_type": ""
    },
    "tags": [
     "parameters"
    ]
   },
   "source": [
    "# ML experimentation with MLflow via private VPC\n"
   ]
  },
  {
   "cell_type": "markdown",
   "id": "1f0ef893-66d0-4b81-9dfb-d18a441b3e4d",
   "metadata": {},
   "source": [
    "This notebook is used to make sure that your setup is ready to run for the workshop. \n",
    "The main steps are\n",
    "* Set constants that are used throughout the workshop, e.g. `project_prefix`, `bucket_prefix`, etc\n",
    "* Set Mlflow server `mlflow_arn` that will be used throughout the workshop\n",
    "* Install Docker package to enable Studio local mode\n",
    "\n",
    "It also provides you instructions how to resolve issues, in case you are running this on your own AWS account."
   ]
  },
  {
   "cell_type": "markdown",
   "id": "ae1d8226",
   "metadata": {},
   "source": [
    "To run this notebook and all notebooks in the workshop please use the `Python 3` kernel in JupyterLab"
   ]
  },
  {
   "cell_type": "markdown",
   "id": "c4ee0e26-aed4-4a01-929a-0dc25cf0882e",
   "metadata": {},
   "source": [
    "Before starting, let us first setup the private `pip` repository via code artifact and get the authentication token to install the libraries."
   ]
  },
  {
   "cell_type": "code",
   "execution_count": null,
   "id": "41f426db-57c6-4433-b987-8fd808e942fb",
   "metadata": {},
   "outputs": [],
   "source": [
    "%%bash\n",
    "AWS_ACCOUNT=$(aws sts get-caller-identity --output text --query 'Account')\n",
    "aws codeartifact login --tool pip --repository pip --domain code-artifact-domain --domain-owner ${AWS_ACCOUNT} --region ${AWS_DEFAULT_REGION}"
   ]
  },
  {
   "cell_type": "markdown",
   "id": "3412884f-0a96-402f-bb1d-2685d1d6ccf2",
   "metadata": {
    "tags": []
   },
   "source": [
    "## Initiate\n",
    "Get the latest version of SageMaker Python SDK.\n",
    "\n",
    "<div class=\"alert alert-info\"> 💡 This notebook was tested with Sagemaker Distribution `2.1.0` and the SageMaker Python SDK version 2.227.0. The notebooks don't pin the version of the sagemaker. If you encounter any incompatibility issues, you can install the specific version of the sagemaker by running the pip command: <code>!pip install sagemaker=2.227.0</code>\n",
    "</div>"
   ]
  },
  {
   "cell_type": "markdown",
   "id": "e7429542-034b-44b3-be54-235a86d82be3",
   "metadata": {},
   "source": [
    "Initialize the reference to the private AWS CodeArtifact to install the relevant libraries"
   ]
  },
  {
   "cell_type": "markdown",
   "id": "ec89f178-5655-4899-8e77-073d09d31ef9",
   "metadata": {},
   "source": [
    "### Let's get started by installing the requirements."
   ]
  },
  {
   "cell_type": "code",
   "execution_count": null,
   "id": "a9452d7f-7627-4553-9805-9c1e69b8114d",
   "metadata": {},
   "outputs": [],
   "source": [
    "%%writefile ./requirements.txt\n",
    "sagemaker\n",
    "scikit-learn==1.3.2\n",
    "s3fs\n",
    "mlflow==2.13.2\n",
    "sagemaker-mlflow"
   ]
  },
  {
   "cell_type": "code",
   "execution_count": null,
   "id": "4c3821b5-5777-43bf-922b-f7774f8de5df",
   "metadata": {
    "scrolled": true
   },
   "outputs": [],
   "source": "!pip install -r requirements.txt"
  },
  {
   "cell_type": "markdown",
   "id": "39455b3b-649f-4872-b238-a8892354f937",
   "metadata": {},
   "source": [
    "### Import packages"
   ]
  },
  {
   "cell_type": "code",
   "execution_count": null,
   "id": "776b8950-0872-47b9-ac8c-f34b3aff85a2",
   "metadata": {
    "tags": []
   },
   "outputs": [],
   "source": [
    "import time\n",
    "import os\n",
    "import json\n",
    "import boto3\n",
    "import numpy as np  \n",
    "import pandas as pd \n",
    "import sagemaker\n",
    "from time import gmtime, strftime, sleep\n",
    "\n",
    "(sagemaker.__version__,boto3.__version__)"
   ]
  },
  {
   "cell_type": "markdown",
   "id": "334b1157-f983-47d1-935a-d5e74ae92efa",
   "metadata": {},
   "source": [
    "### Set constants"
   ]
  },
  {
   "cell_type": "code",
   "execution_count": null,
   "id": "d4aaa3b3-0a80-4011-b656-6df93b40fd51",
   "metadata": {
    "tags": []
   },
   "outputs": [],
   "source": [
    "# Get some variables you need to interact with SageMaker service\n",
    "boto_session = boto3.Session()\n",
    "region = boto_session.region_name\n",
    "project_prefix = \"amzn\"\n",
    "bucket_name = sagemaker.Session().default_bucket()\n",
    "bucket_prefix = f\"{bucket_name}/{project_prefix}\"\n",
    "sm_session = sagemaker.Session()\n",
    "sm_client = boto_session.client(\"sagemaker\")\n",
    "sm_role = sagemaker.get_execution_role()\n",
    "account_id = sm_role.split(':')[-2]\n",
    "\n",
    "print(sm_role)"
   ]
  },
  {
   "cell_type": "markdown",
   "id": "b4f7b4ee-62b3-49ee-8045-dfceb1c3e5b6",
   "metadata": {},
   "source": [
    "### Get domain id\n",
    "You need this value `domain_id` in many SageMaker Python SDK and boto3 SageMaker API calls. The notebook metadata file contains `domain_id` value. The following code demonstrates how to access the notebook metadata file and get the `domain_id`."
   ]
  },
  {
   "cell_type": "code",
   "execution_count": null,
   "id": "57644797-75fc-4001-bbf9-f652a4973760",
   "metadata": {
    "tags": []
   },
   "outputs": [],
   "source": [
    "NOTEBOOK_METADATA_FILE = \"/opt/ml/metadata/resource-metadata.json\"\n",
    "domain_id = None\n",
    "\n",
    "if os.path.exists(NOTEBOOK_METADATA_FILE):\n",
    "    with open(NOTEBOOK_METADATA_FILE, \"rb\") as f:\n",
    "        metadata = json.loads(f.read())\n",
    "        domain_id = metadata.get('DomainId')\n",
    "        space_name = metadata.get('SpaceName')\n",
    "        print(f\"SageMaker domain id: {domain_id}\")\n",
    "\n",
    "if not space_name:\n",
    "    raise Exception(f\"Cannot find the current space name. Make sure you run this notebook in a JupyterLab in the SageMaker Studio\")\n",
    "else:\n",
    "    print(f\"Space name: {space_name}\")\n",
    "    \n",
    "r = sm_client.describe_space(DomainId=domain_id, SpaceName=space_name)\n",
    "user_profile_name = r['OwnershipSettings']['OwnerUserProfileName']\n",
    "\n",
    "assert(user_profile_name)\n",
    "print(f\"User profile: {user_profile_name}\")"
   ]
  },
  {
   "cell_type": "markdown",
   "id": "2ca23610-7cd9-409a-8f07-2a85dabc5533",
   "metadata": {},
   "source": [
    "### Connect to MLflow tracking server\n",
    "\n",
    "Fetch the `ARN` of the MLflow server (if you have multiple MLflow Tracking Servers, you can just the `mlflow_arn` and `mlflow_name` to the value of your server)."
   ]
  },
  {
   "cell_type": "code",
   "execution_count": null,
   "id": "7c94423a-fba8-4412-bfc5-b4ff71078923",
   "metadata": {},
   "outputs": [],
   "source": [
    "# Find an active MLflow server in the account\n",
    "r = sm_client.list_mlflow_tracking_servers(\n",
    "    TrackingServerStatus='Created',\n",
    ")['TrackingServerSummaries']\n",
    "\n",
    "mlflow_arn = r[0]['TrackingServerArn']\n",
    "mlflow_name = r[0]['TrackingServerName']"
   ]
  },
  {
   "cell_type": "code",
   "execution_count": null,
   "id": "950d78a2-fc55-4941-ba1b-b15589545d3a",
   "metadata": {},
   "outputs": [],
   "source": [
    "(mlflow_arn, mlflow_name)"
   ]
  },
  {
   "cell_type": "markdown",
   "id": "f3a6b8e5",
   "metadata": {},
   "source": ""
  },
  {
   "cell_type": "markdown",
   "id": "3a936ea3-f11d-419d-9327-ce6b9dc408d4",
   "metadata": {},
   "source": [
    "## Experimentation"
   ]
  },
  {
   "cell_type": "code",
   "execution_count": null,
   "id": "446665df-e767-4598-bd1a-ecb80c7573e2",
   "metadata": {},
   "outputs": [],
   "source": [
    "import xgboost"
   ]
  },
  {
   "cell_type": "markdown",
   "id": "ce9a93f4-e861-473b-9b27-411ca67fdb8f",
   "metadata": {},
   "source": [
    "The Amazon SageMaker Python SDK supports setting of default values for AWS infrastructure primitive types, such as instance types, Amazon S3 folder locations, and IAM roles. You can override the default locations of these files by setting the SAGEMAKER_USER_CONFIG_OVERRIDE environment variables for the user-defined configuration file paths."
   ]
  },
  {
   "cell_type": "code",
   "execution_count": null,
   "id": "813e9c4b-da4f-4de7-9016-adb450ad53ff",
   "metadata": {},
   "outputs": [],
   "source": [
    "domain_details = sm_client.describe_domain(DomainId=domain_id)\n",
    "security_group_id = domain_details['DefaultUserSettings']['SecurityGroups'][0]\n",
    "private_subnet_id_1 = domain_details['SubnetIds'][0]\n",
    "private_subnet_id_2 = domain_details['SubnetIds'][1]"
   ]
  },
  {
   "cell_type": "code",
   "execution_count": null,
   "id": "20ffaca8-f950-428c-8673-ee4c31c5f26f",
   "metadata": {},
   "outputs": [],
   "source": [
    "config_yaml = f\"\"\"\n",
    "SchemaVersion: '1.0'\n",
    "SageMaker:\n",
    "  PythonSDK:\n",
    "    Modules:\n",
    "      TelemetryOptOut: true\n",
    "      RemoteFunction:\n",
    "        # role arn is not required if in SageMaker Notebook instance or SageMaker Studio\n",
    "        # Uncomment the following line and replace with the right execution role if in a local IDE\n",
    "        # RoleArn: <replace the role arn here>\n",
    "        S3RootUri: s3://{bucket_prefix}\n",
    "        InstanceType: ml.m5.xlarge\n",
    "        Dependencies: ./requirements.txt\n",
    "        IncludeLocalWorkDir: true\n",
    "        PreExecutionCommands:\n",
    "        - \"aws codeartifact login --tool pip --repository pip --domain code-artifact-domain --domain-owner {account_id} --region {region}\"\n",
    "        CustomFileFilter:\n",
    "          IgnoreNamePatterns:\n",
    "          - \"data/*\"\n",
    "          - \"models/*\"\n",
    "          - \"*.ipynb\"\n",
    "          - \"__pycache__\"\n",
    "        VpcConfig:\n",
    "          SecurityGroupIds: \n",
    "          - {security_group_id}\n",
    "          Subnets: \n",
    "          - {private_subnet_id_1}\n",
    "          - {private_subnet_id_2}\n",
    "\n",
    "\"\"\"\n",
    "\n",
    "print(config_yaml, file=open('config.yaml', 'w'))\n",
    "print(config_yaml)"
   ]
  },
  {
   "cell_type": "code",
   "execution_count": null,
   "id": "7619d4d0-c877-4bbf-b283-b60a0a6d22cd",
   "metadata": {},
   "outputs": [],
   "source": [
    "from time import gmtime, strftime\n",
    "\n",
    "# Mlflow (replace these values with your own, if needed)\n",
    "project_prefix = project_prefix\n",
    "tracking_server_arn = mlflow_arn\n",
    "experiment_name = f\"{project_prefix}-sm-private-experiment\"\n",
    "run_name=f\"run-{strftime('%d-%H-%M-%S', gmtime())}\""
   ]
  },
  {
   "cell_type": "code",
   "execution_count": null,
   "id": "e1faf0e0-a3fe-416b-99ac-7c385802073b",
   "metadata": {},
   "outputs": [],
   "source": [
    "import os\n",
    "\n",
    "# Use the current working directory as the location for SageMaker Python SDK config file\n",
    "os.environ[\"SAGEMAKER_USER_CONFIG_OVERRIDE\"] = os.getcwd()"
   ]
  },
  {
   "metadata": {},
   "cell_type": "markdown",
   "source": [
    "### Data preparation\n",
    "\n",
    "Due to the lack of internet access on the SageMaker Sudio domain, you need to download the reference dataset from public [UC Irvine ML repository](https://archive.ics.uci.edu/ml/machine-learning-databases/00601/ai4i2020.csv) to your local pc, then name it `predictive_maintenance_raw_data_header.csv` and upload the reference dataset from your local PC to JupyterLab Space as shown here.\n",
    "\n",
    "![upload-to-jupyterlab](../image/upload-to-jupyterlab.png)"
   ],
   "id": "5fa31c55982557f"
  },
  {
   "cell_type": "code",
   "execution_count": null,
   "id": "98bf259b-ffdd-4ec4-95c2-560608e3b964",
   "metadata": {},
   "outputs": [],
   "source": [
    "input_data_dir = './'\n",
    "if not os.path.exists(input_data_dir):\n",
    "    os.makedirs(input_data_dir)\n",
    "input_data_path = os.path.join(input_data_dir, 'predictive_maintenance_raw_data_header.csv')"
   ]
  },
  {
   "cell_type": "markdown",
   "id": "3d684214-5d54-4761-8ed1-237764d01f7f",
   "metadata": {},
   "source": [
    "### Data Processing"
   ]
  },
  {
   "cell_type": "markdown",
   "id": "662c4a56-fbec-4d0a-b08d-aae88dba3fc2",
   "metadata": {},
   "source": [
    "Determine the number of samples (rows) and features (columns) in the dataset."
   ]
  },
  {
   "cell_type": "code",
   "execution_count": null,
   "id": "3e41f165-6f62-40a4-b5df-c5e0f63c54d5",
   "metadata": {},
   "outputs": [],
   "source": [
    "import pandas as pd\n",
    "import warnings\n",
    "warnings.filterwarnings(\"ignore\")\n",
    "\n",
    "df = pd.read_csv(input_data_path)\n",
    "\n",
    "print('The shape of the dataset is:', df.shape)"
   ]
  },
  {
   "cell_type": "code",
   "execution_count": null,
   "id": "48c8da24-8111-4390-8084-8f1b5c8c2787",
   "metadata": {
    "scrolled": true
   },
   "outputs": [],
   "source": [
    "df.head(10)"
   ]
  },
  {
   "cell_type": "markdown",
   "id": "47e7f273-82bf-4379-817c-87eecb9c031a",
   "metadata": {},
   "source": [
    "You will run data pre-processing in the preprocess function in the following cell. This function performs one-hot encoding of the relevant categorical columns and fills in the NaN values based on domain knowledge. It then splits the dataset into training, validation, and test datasets, fits the featurizer model, and transforms the datasets. The function returns the model and the output datasets, and saves the serialized model to the file system.\n",
    "\n",
    "The following cell annotates the preprocess function with the @remote decorator to run the Python function as a SageMaker job without requiring any other modifications to the function code. Feel free to comment out the remote decorator in the cells below to seamlesssly move from running the function remotely via SageMaker Training to local execution. If you comment out the decorator to run the function locally, you will need to run this command in the terminal to give permission to the output directory where the function will save the models: sudo chmod -R 777 /opt/ml/model. You don't need to run this command if you leave the remote decorator in, since the config.yaml file runs that command before executing the training job.\n",
    "\n",
    "The code also uses SageMaker Managed Warm Pools by setting the keep_alive_period_in_seconds parameter. SageMaker Managed Warm Pools let you retain and reuse provisioned infrastructure after the completion of a job to reduce latency for repetitive workloads, such as iterative experimentation or running many jobs consecutively. Subsequent training jobs that match specified parameters run on the retained warm pool infrastructure, which speeds up start times by reducing the time spent provisioning resources. Please note that Managed Warm Pools might not be enabled for your AWS Account; in such case, although the code will still work, you might not see lower latencies for the subsequent iterations."
   ]
  },
  {
   "cell_type": "code",
   "execution_count": null,
   "id": "90c8c920-02bc-496f-a0d6-f91d3b600a3b",
   "metadata": {},
   "outputs": [],
   "source": [
    "import os\n",
    "import joblib\n",
    "\n",
    "from sagemaker.workflow.execution_variables import ExecutionVariables\n",
    "from sklearn.model_selection import train_test_split\n",
    "from sklearn.preprocessing import StandardScaler, OneHotEncoder\n",
    "from sklearn.compose import ColumnTransformer\n",
    "\n",
    "from sklearn.metrics import roc_auc_score\n",
    "from sklearn.metrics import accuracy_score\n",
    "from sklearn.metrics import precision_score\n",
    "from sklearn.metrics import recall_score\n",
    "\n",
    "\n",
    "from sagemaker.remote_function import remote\n",
    "\n",
    "import mlflow\n",
    "import pandas as pd\n",
    "\n",
    "@remote(keep_alive_period_in_seconds=3600, job_name_prefix=f\"{project_prefix}-sm-private-preprocess\")\n",
    "def preprocess(df, df_source: str, experiment_name: str):\n",
    "    \n",
    "    mlflow.set_tracking_uri(tracking_server_arn)\n",
    "    mlflow.set_experiment(experiment_name)    \n",
    "    \n",
    "    with mlflow.start_run(run_name=f\"Preprocessing\") as run:            \n",
    "        mlflow.autolog()\n",
    "        \n",
    "        columns = ['Type', 'Air temperature [K]', 'Process temperature [K]', 'Rotational speed [rpm]', 'Torque [Nm]', 'Tool wear [min]', 'Machine failure']\n",
    "        cat_columns = ['Type']\n",
    "        num_columns = ['Air temperature [K]', 'Process temperature [K]', 'Rotational speed [rpm]', 'Torque [Nm]', 'Tool wear [min]']\n",
    "        target_column = 'Machine failure'                    \n",
    "        df = df[columns]\n",
    "\n",
    "        mlflow.log_input(\n",
    "            mlflow.data.from_pandas(df, df_source, targets=target_column),\n",
    "            context=\"DataPreprocessing\",\n",
    "        )\n",
    "        \n",
    "        training_ratio = 0.8\n",
    "        validation_ratio = 0.1\n",
    "        test_ratio = 0.1\n",
    "    \n",
    "        X = df.drop(target_column, axis=1)\n",
    "        y = df[target_column]\n",
    "    \n",
    "        print(f'Splitting data training ({training_ratio}), validation ({validation_ratio}), and test ({test_ratio}) sets ')\n",
    "    \n",
    "        X_train, X_test, y_train, y_test = train_test_split(X, y, test_size=test_ratio, random_state=0, stratify=y)\n",
    "        X_train, X_val, y_train, y_val = train_test_split(X_train, y_train, test_size=validation_ratio/(validation_ratio+training_ratio), random_state=2, stratify=y_train)\n",
    "    \n",
    "        # Apply transformations\n",
    "        transformer = ColumnTransformer(transformers=[('numeric', StandardScaler(), num_columns),\n",
    "                                                      ('categorical', OneHotEncoder(), cat_columns)],\n",
    "                                        remainder='passthrough')\n",
    "        featurizer_model = transformer.fit(X_train)\n",
    "        X_train = featurizer_model.transform(X_train)\n",
    "        X_val = featurizer_model.transform(X_val)\n",
    "    \n",
    "        print(f'Shape of train features after preprocessing: {X_train.shape}')\n",
    "        print(f'Shape of validation features after preprocessing: {X_val.shape}')\n",
    "        print(f'Shape of test features after preprocessing: {X_test.shape}')\n",
    "        \n",
    "        y_train = y_train.values.reshape(-1)\n",
    "        y_val = y_val.values.reshape(-1)\n",
    "        \n",
    "        print(f'Shape of train labels after preprocessing: {y_train.shape}')\n",
    "        print(f'Shape of validation labels after preprocessing: {y_val.shape}')\n",
    "        print(f'Shape of test labels after preprocessing: {y_test.shape}')\n",
    "    \n",
    "        model_file_path=\"/opt/ml/model/sklearn_model.joblib\"\n",
    "        os.makedirs(os.path.dirname(model_file_path), exist_ok=True)\n",
    "        joblib.dump(featurizer_model, model_file_path)\n",
    "\n",
    "    return X_train, y_train, X_val, y_val, X_test, y_test, featurizer_model"
   ]
  },
  {
   "cell_type": "markdown",
   "id": "f22d77d0-92a8-4176-8b48-e1ee5397e328",
   "metadata": {},
   "source": [
    "The function returns multiple values, including the training, validation, and test features and labels, and the featurizer model."
   ]
  },
  {
   "cell_type": "code",
   "execution_count": null,
   "id": "1b523e4f-82bc-4062-995e-c42bdbe95799",
   "metadata": {
    "scrolled": true
   },
   "outputs": [],
   "source": [
    "X_train, y_train, X_val, y_val, X_test, y_test, featurizer_model = preprocess(df=df, \n",
    "                                                                              df_source=input_data_path, \n",
    "                                                                              experiment_name=experiment_name)"
   ]
  },
  {
   "cell_type": "markdown",
   "id": "e1f7c05e-f967-4da3-914e-1ab3e15ab086",
   "metadata": {},
   "source": [
    "Analyze the featurizer model structure."
   ]
  },
  {
   "cell_type": "code",
   "execution_count": null,
   "id": "cc247bd6-df7a-4721-aa89-7558baf378b5",
   "metadata": {},
   "outputs": [],
   "source": [
    "featurizer_model"
   ]
  },
  {
   "cell_type": "code",
   "execution_count": null,
   "id": "0bbb2f9e-fa6d-4598-93eb-529c9eac86e9",
   "metadata": {},
   "outputs": [],
   "source": [
    "import pandas as pd\n",
    "pd.DataFrame(X_train).head(10)"
   ]
  },
  {
   "cell_type": "markdown",
   "id": "e0f4e39f-8826-45e1-a832-0558f095cd26",
   "metadata": {},
   "source": [
    "### Model Training"
   ]
  },
  {
   "cell_type": "code",
   "execution_count": null,
   "id": "f955e4d2-0857-4d68-974f-2c855e91e014",
   "metadata": {},
   "outputs": [],
   "source": [
    "import os\n",
    "import xgboost\n",
    "import numpy as np\n",
    "import mlflow\n",
    "from sagemaker.remote_function import remote\n",
    "\n",
    "@remote(keep_alive_period_in_seconds=3600, job_name_prefix=f\"{project_prefix}-sm-private-train\")\n",
    "def train(X_train, y_train, X_val, y_val,\n",
    "          eta=0.1, \n",
    "          max_depth=2, \n",
    "          gamma=0.0,\n",
    "          min_child_weight=1,\n",
    "          verbosity=0,\n",
    "          objective='binary:logistic',\n",
    "          eval_metric='auc',\n",
    "          num_boost_round=5):\n",
    "\n",
    "    print('Train features shape: {}'.format(X_train.shape))\n",
    "    print('Train labels shape: {}'.format(y_train.shape))\n",
    "    print('Validation features shape: {}'.format(X_val.shape))\n",
    "    print('Validation labels shape: {}'.format(y_val.shape))        \n",
    "    \n",
    "    mlflow.set_tracking_uri(tracking_server_arn)\n",
    "    mlflow.set_experiment(experiment_name)\n",
    "    \n",
    "    with mlflow.start_run(run_name=f\"Training\") as run:               \n",
    "        mlflow.autolog()\n",
    "             \n",
    "        # Creating DMatrix(es)\n",
    "        dtrain = xgboost.DMatrix(X_train, label=y_train)\n",
    "        dval = xgboost.DMatrix(X_val, label=y_val)\n",
    "        watchlist = [(dtrain, \"train\"), (dval, \"validation\")]\n",
    "    \n",
    "        print('')\n",
    "        print (f'===Starting training with max_depth {max_depth}===')\n",
    "        \n",
    "        param_dist = {\n",
    "            \"max_depth\": max_depth,\n",
    "            \"eta\": eta,\n",
    "            \"gamma\": gamma,\n",
    "            \"min_child_weight\": min_child_weight,\n",
    "            \"verbosity\": verbosity,\n",
    "            \"objective\": objective,\n",
    "            \"eval_metric\": eval_metric\n",
    "        }        \n",
    "    \n",
    "        xgb = xgboost.train(\n",
    "            params=param_dist,\n",
    "            dtrain=dtrain,\n",
    "            evals=watchlist,\n",
    "            num_boost_round=num_boost_round)\n",
    "    \n",
    "        predictions = xgb.predict(dval)\n",
    "    \n",
    "        print (\"Metrics for validation set\")\n",
    "        print('')\n",
    "        print (pd.crosstab(index=y_val, columns=np.round(predictions),\n",
    "                           rownames=['Actuals'], colnames=['Predictions'], margins=True))\n",
    "        \n",
    "        rounded_predict = np.round(predictions)\n",
    "    \n",
    "        val_accuracy = accuracy_score(y_val, rounded_predict)\n",
    "        val_precision = precision_score(y_val, rounded_predict)\n",
    "        val_recall = recall_score(y_val, rounded_predict)\n",
    "    \n",
    "        print(\"Accuracy Model A: %.2f%%\" % (val_accuracy * 100.0))            \n",
    "        print(\"Precision Model A: %.2f\" % (val_precision))\n",
    "        print(\"Recall Model A: %.2f\" % (val_recall))\n",
    "        \n",
    "        # Log additional metrics, next to the default ones logged automatically\n",
    "        mlflow.log_metric(\"Accuracy Model A\", val_accuracy * 100.0)\n",
    "        mlflow.log_metric(\"Precision Model A\", val_precision)\n",
    "        mlflow.log_metric(\"Recall Model A\", val_recall)\n",
    "        \n",
    "        from sklearn.metrics import roc_auc_score\n",
    "    \n",
    "        val_auc = roc_auc_score(y_val, predictions)\n",
    "        \n",
    "        print(\"Validation AUC A: %.2f\" % (val_auc))\n",
    "        mlflow.log_metric(\"Validation AUC A\", val_auc)\n",
    "    \n",
    "        model_file_path=\"/opt/ml/model/xgboost_model.bin\"\n",
    "        os.makedirs(os.path.dirname(model_file_path), exist_ok=True)\n",
    "        xgb.save_model(model_file_path)\n",
    "\n",
    "    return xgb"
   ]
  },
  {
   "cell_type": "code",
   "execution_count": null,
   "id": "6dcb1528-7dab-4875-881d-68e95184f753",
   "metadata": {
    "scrolled": true
   },
   "outputs": [],
   "source": [
    "eta=0.3\n",
    "max_depth=10\n",
    "\n",
    "booster = train(X_train, y_train, X_val, y_val,\n",
    "              eta=eta, \n",
    "              max_depth=max_depth)"
   ]
  },
  {
   "cell_type": "markdown",
   "id": "b19c51cb-6c1c-4465-93da-e97707277690",
   "metadata": {},
   "source": [
    "Display the information about the trained model."
   ]
  },
  {
   "cell_type": "code",
   "execution_count": null,
   "id": "8c148496-119e-4691-a4ba-441e59752c97",
   "metadata": {},
   "outputs": [],
   "source": [
    "booster"
   ]
  },
  {
   "cell_type": "markdown",
   "id": "305929e3-6f28-49f3-b94f-65d6efa306a3",
   "metadata": {},
   "source": [
    "### Test the model with test data"
   ]
  },
  {
   "cell_type": "code",
   "execution_count": null,
   "id": "401d13a8-6b7c-404c-8d28-31d75f6d9019",
   "metadata": {},
   "outputs": [],
   "source": [
    "def test(featurizer_model, booster, X_test, y_test):\n",
    "\n",
    "    mlflow.start_run(run_name=f\"Testing\")\n",
    "    mlflow.autolog()\n",
    "    X_test = featurizer_model.transform(X_test)\n",
    "    y_test = y_test.values.reshape(-1)\n",
    "\n",
    "    dtest = xgboost.DMatrix(X_test, label=y_test)\n",
    "    test_predictions = booster.predict(dtest)\n",
    "    \n",
    "    print (\"===Metrics for Test Set===\")\n",
    "    print('')\n",
    "    print (pd.crosstab(index=y_test, columns=np.round(test_predictions), \n",
    "                                     rownames=['Actuals'], \n",
    "                                     colnames=['Predictions'], \n",
    "                                     margins=True)\n",
    "          )\n",
    "    print('')\n",
    "\n",
    "    rounded_predict = np.round(test_predictions)\n",
    "\n",
    "    accuracy = accuracy_score(y_test, rounded_predict)\n",
    "    precision = precision_score(y_test, rounded_predict)\n",
    "    recall = recall_score(y_test, rounded_predict)\n",
    "    \n",
    "    print('')\n",
    "    print(\"Accuracy Model A: %.2f%%\" % (accuracy * 100.0))\n",
    "    print(\"Precision Model A: %.2f\" % (precision))\n",
    "    print(\"Recall Model A: %.2f\" % (recall))\n",
    "    \n",
    "    mlflow.log_metric(\"Accuracy Model A\", accuracy * 100.0)\n",
    "    mlflow.log_metric(\"Precision Model A\", precision)\n",
    "    mlflow.log_metric(\"Recall Model A\", recall)\n",
    "\n",
    "    from sklearn.metrics import roc_auc_score\n",
    "\n",
    "    auc = roc_auc_score(y_test, test_predictions)\n",
    "    \n",
    "    print(\"AUC A: %.2f\" % (auc))\n",
    "    mlflow.log_metric(\"AUC A\",auc)\n",
    "    \n",
    "    mlflow.end_run()"
   ]
  },
  {
   "cell_type": "code",
   "execution_count": null,
   "id": "0dfcf693-9c57-4f5b-b3fa-f0bd2579bd56",
   "metadata": {},
   "outputs": [],
   "source": [
    "test(featurizer_model, booster, X_test, y_test)"
   ]
  },
  {
   "cell_type": "code",
   "execution_count": null,
   "id": "d23f53c8-2a77-433f-9016-3980775383a7",
   "metadata": {},
   "outputs": [],
   "source": []
  }
 ],
 "metadata": {
  "availableInstances": [
   {
    "_defaultOrder": 0,
    "_isFastLaunch": true,
    "category": "General purpose",
    "gpuNum": 0,
    "hideHardwareSpecs": false,
    "memoryGiB": 4,
    "name": "ml.t3.medium",
    "vcpuNum": 2
   },
   {
    "_defaultOrder": 1,
    "_isFastLaunch": false,
    "category": "General purpose",
    "gpuNum": 0,
    "hideHardwareSpecs": false,
    "memoryGiB": 8,
    "name": "ml.t3.large",
    "vcpuNum": 2
   },
   {
    "_defaultOrder": 2,
    "_isFastLaunch": false,
    "category": "General purpose",
    "gpuNum": 0,
    "hideHardwareSpecs": false,
    "memoryGiB": 16,
    "name": "ml.t3.xlarge",
    "vcpuNum": 4
   },
   {
    "_defaultOrder": 3,
    "_isFastLaunch": false,
    "category": "General purpose",
    "gpuNum": 0,
    "hideHardwareSpecs": false,
    "memoryGiB": 32,
    "name": "ml.t3.2xlarge",
    "vcpuNum": 8
   },
   {
    "_defaultOrder": 4,
    "_isFastLaunch": true,
    "category": "General purpose",
    "gpuNum": 0,
    "hideHardwareSpecs": false,
    "memoryGiB": 8,
    "name": "ml.m5.large",
    "vcpuNum": 2
   },
   {
    "_defaultOrder": 5,
    "_isFastLaunch": false,
    "category": "General purpose",
    "gpuNum": 0,
    "hideHardwareSpecs": false,
    "memoryGiB": 16,
    "name": "ml.m5.xlarge",
    "vcpuNum": 4
   },
   {
    "_defaultOrder": 6,
    "_isFastLaunch": false,
    "category": "General purpose",
    "gpuNum": 0,
    "hideHardwareSpecs": false,
    "memoryGiB": 32,
    "name": "ml.m5.2xlarge",
    "vcpuNum": 8
   },
   {
    "_defaultOrder": 7,
    "_isFastLaunch": false,
    "category": "General purpose",
    "gpuNum": 0,
    "hideHardwareSpecs": false,
    "memoryGiB": 64,
    "name": "ml.m5.4xlarge",
    "vcpuNum": 16
   },
   {
    "_defaultOrder": 8,
    "_isFastLaunch": false,
    "category": "General purpose",
    "gpuNum": 0,
    "hideHardwareSpecs": false,
    "memoryGiB": 128,
    "name": "ml.m5.8xlarge",
    "vcpuNum": 32
   },
   {
    "_defaultOrder": 9,
    "_isFastLaunch": false,
    "category": "General purpose",
    "gpuNum": 0,
    "hideHardwareSpecs": false,
    "memoryGiB": 192,
    "name": "ml.m5.12xlarge",
    "vcpuNum": 48
   },
   {
    "_defaultOrder": 10,
    "_isFastLaunch": false,
    "category": "General purpose",
    "gpuNum": 0,
    "hideHardwareSpecs": false,
    "memoryGiB": 256,
    "name": "ml.m5.16xlarge",
    "vcpuNum": 64
   },
   {
    "_defaultOrder": 11,
    "_isFastLaunch": false,
    "category": "General purpose",
    "gpuNum": 0,
    "hideHardwareSpecs": false,
    "memoryGiB": 384,
    "name": "ml.m5.24xlarge",
    "vcpuNum": 96
   },
   {
    "_defaultOrder": 12,
    "_isFastLaunch": false,
    "category": "General purpose",
    "gpuNum": 0,
    "hideHardwareSpecs": false,
    "memoryGiB": 8,
    "name": "ml.m5d.large",
    "vcpuNum": 2
   },
   {
    "_defaultOrder": 13,
    "_isFastLaunch": false,
    "category": "General purpose",
    "gpuNum": 0,
    "hideHardwareSpecs": false,
    "memoryGiB": 16,
    "name": "ml.m5d.xlarge",
    "vcpuNum": 4
   },
   {
    "_defaultOrder": 14,
    "_isFastLaunch": false,
    "category": "General purpose",
    "gpuNum": 0,
    "hideHardwareSpecs": false,
    "memoryGiB": 32,
    "name": "ml.m5d.2xlarge",
    "vcpuNum": 8
   },
   {
    "_defaultOrder": 15,
    "_isFastLaunch": false,
    "category": "General purpose",
    "gpuNum": 0,
    "hideHardwareSpecs": false,
    "memoryGiB": 64,
    "name": "ml.m5d.4xlarge",
    "vcpuNum": 16
   },
   {
    "_defaultOrder": 16,
    "_isFastLaunch": false,
    "category": "General purpose",
    "gpuNum": 0,
    "hideHardwareSpecs": false,
    "memoryGiB": 128,
    "name": "ml.m5d.8xlarge",
    "vcpuNum": 32
   },
   {
    "_defaultOrder": 17,
    "_isFastLaunch": false,
    "category": "General purpose",
    "gpuNum": 0,
    "hideHardwareSpecs": false,
    "memoryGiB": 192,
    "name": "ml.m5d.12xlarge",
    "vcpuNum": 48
   },
   {
    "_defaultOrder": 18,
    "_isFastLaunch": false,
    "category": "General purpose",
    "gpuNum": 0,
    "hideHardwareSpecs": false,
    "memoryGiB": 256,
    "name": "ml.m5d.16xlarge",
    "vcpuNum": 64
   },
   {
    "_defaultOrder": 19,
    "_isFastLaunch": false,
    "category": "General purpose",
    "gpuNum": 0,
    "hideHardwareSpecs": false,
    "memoryGiB": 384,
    "name": "ml.m5d.24xlarge",
    "vcpuNum": 96
   },
   {
    "_defaultOrder": 20,
    "_isFastLaunch": false,
    "category": "General purpose",
    "gpuNum": 0,
    "hideHardwareSpecs": true,
    "memoryGiB": 0,
    "name": "ml.geospatial.interactive",
    "supportedImageNames": [
     "sagemaker-geospatial-v1-0"
    ],
    "vcpuNum": 0
   },
   {
    "_defaultOrder": 21,
    "_isFastLaunch": true,
    "category": "Compute optimized",
    "gpuNum": 0,
    "hideHardwareSpecs": false,
    "memoryGiB": 4,
    "name": "ml.c5.large",
    "vcpuNum": 2
   },
   {
    "_defaultOrder": 22,
    "_isFastLaunch": false,
    "category": "Compute optimized",
    "gpuNum": 0,
    "hideHardwareSpecs": false,
    "memoryGiB": 8,
    "name": "ml.c5.xlarge",
    "vcpuNum": 4
   },
   {
    "_defaultOrder": 23,
    "_isFastLaunch": false,
    "category": "Compute optimized",
    "gpuNum": 0,
    "hideHardwareSpecs": false,
    "memoryGiB": 16,
    "name": "ml.c5.2xlarge",
    "vcpuNum": 8
   },
   {
    "_defaultOrder": 24,
    "_isFastLaunch": false,
    "category": "Compute optimized",
    "gpuNum": 0,
    "hideHardwareSpecs": false,
    "memoryGiB": 32,
    "name": "ml.c5.4xlarge",
    "vcpuNum": 16
   },
   {
    "_defaultOrder": 25,
    "_isFastLaunch": false,
    "category": "Compute optimized",
    "gpuNum": 0,
    "hideHardwareSpecs": false,
    "memoryGiB": 72,
    "name": "ml.c5.9xlarge",
    "vcpuNum": 36
   },
   {
    "_defaultOrder": 26,
    "_isFastLaunch": false,
    "category": "Compute optimized",
    "gpuNum": 0,
    "hideHardwareSpecs": false,
    "memoryGiB": 96,
    "name": "ml.c5.12xlarge",
    "vcpuNum": 48
   },
   {
    "_defaultOrder": 27,
    "_isFastLaunch": false,
    "category": "Compute optimized",
    "gpuNum": 0,
    "hideHardwareSpecs": false,
    "memoryGiB": 144,
    "name": "ml.c5.18xlarge",
    "vcpuNum": 72
   },
   {
    "_defaultOrder": 28,
    "_isFastLaunch": false,
    "category": "Compute optimized",
    "gpuNum": 0,
    "hideHardwareSpecs": false,
    "memoryGiB": 192,
    "name": "ml.c5.24xlarge",
    "vcpuNum": 96
   },
   {
    "_defaultOrder": 29,
    "_isFastLaunch": true,
    "category": "Accelerated computing",
    "gpuNum": 1,
    "hideHardwareSpecs": false,
    "memoryGiB": 16,
    "name": "ml.g4dn.xlarge",
    "vcpuNum": 4
   },
   {
    "_defaultOrder": 30,
    "_isFastLaunch": false,
    "category": "Accelerated computing",
    "gpuNum": 1,
    "hideHardwareSpecs": false,
    "memoryGiB": 32,
    "name": "ml.g4dn.2xlarge",
    "vcpuNum": 8
   },
   {
    "_defaultOrder": 31,
    "_isFastLaunch": false,
    "category": "Accelerated computing",
    "gpuNum": 1,
    "hideHardwareSpecs": false,
    "memoryGiB": 64,
    "name": "ml.g4dn.4xlarge",
    "vcpuNum": 16
   },
   {
    "_defaultOrder": 32,
    "_isFastLaunch": false,
    "category": "Accelerated computing",
    "gpuNum": 1,
    "hideHardwareSpecs": false,
    "memoryGiB": 128,
    "name": "ml.g4dn.8xlarge",
    "vcpuNum": 32
   },
   {
    "_defaultOrder": 33,
    "_isFastLaunch": false,
    "category": "Accelerated computing",
    "gpuNum": 4,
    "hideHardwareSpecs": false,
    "memoryGiB": 192,
    "name": "ml.g4dn.12xlarge",
    "vcpuNum": 48
   },
   {
    "_defaultOrder": 34,
    "_isFastLaunch": false,
    "category": "Accelerated computing",
    "gpuNum": 1,
    "hideHardwareSpecs": false,
    "memoryGiB": 256,
    "name": "ml.g4dn.16xlarge",
    "vcpuNum": 64
   },
   {
    "_defaultOrder": 35,
    "_isFastLaunch": false,
    "category": "Accelerated computing",
    "gpuNum": 1,
    "hideHardwareSpecs": false,
    "memoryGiB": 61,
    "name": "ml.p3.2xlarge",
    "vcpuNum": 8
   },
   {
    "_defaultOrder": 36,
    "_isFastLaunch": false,
    "category": "Accelerated computing",
    "gpuNum": 4,
    "hideHardwareSpecs": false,
    "memoryGiB": 244,
    "name": "ml.p3.8xlarge",
    "vcpuNum": 32
   },
   {
    "_defaultOrder": 37,
    "_isFastLaunch": false,
    "category": "Accelerated computing",
    "gpuNum": 8,
    "hideHardwareSpecs": false,
    "memoryGiB": 488,
    "name": "ml.p3.16xlarge",
    "vcpuNum": 64
   },
   {
    "_defaultOrder": 38,
    "_isFastLaunch": false,
    "category": "Accelerated computing",
    "gpuNum": 8,
    "hideHardwareSpecs": false,
    "memoryGiB": 768,
    "name": "ml.p3dn.24xlarge",
    "vcpuNum": 96
   },
   {
    "_defaultOrder": 39,
    "_isFastLaunch": false,
    "category": "Memory Optimized",
    "gpuNum": 0,
    "hideHardwareSpecs": false,
    "memoryGiB": 16,
    "name": "ml.r5.large",
    "vcpuNum": 2
   },
   {
    "_defaultOrder": 40,
    "_isFastLaunch": false,
    "category": "Memory Optimized",
    "gpuNum": 0,
    "hideHardwareSpecs": false,
    "memoryGiB": 32,
    "name": "ml.r5.xlarge",
    "vcpuNum": 4
   },
   {
    "_defaultOrder": 41,
    "_isFastLaunch": false,
    "category": "Memory Optimized",
    "gpuNum": 0,
    "hideHardwareSpecs": false,
    "memoryGiB": 64,
    "name": "ml.r5.2xlarge",
    "vcpuNum": 8
   },
   {
    "_defaultOrder": 42,
    "_isFastLaunch": false,
    "category": "Memory Optimized",
    "gpuNum": 0,
    "hideHardwareSpecs": false,
    "memoryGiB": 128,
    "name": "ml.r5.4xlarge",
    "vcpuNum": 16
   },
   {
    "_defaultOrder": 43,
    "_isFastLaunch": false,
    "category": "Memory Optimized",
    "gpuNum": 0,
    "hideHardwareSpecs": false,
    "memoryGiB": 256,
    "name": "ml.r5.8xlarge",
    "vcpuNum": 32
   },
   {
    "_defaultOrder": 44,
    "_isFastLaunch": false,
    "category": "Memory Optimized",
    "gpuNum": 0,
    "hideHardwareSpecs": false,
    "memoryGiB": 384,
    "name": "ml.r5.12xlarge",
    "vcpuNum": 48
   },
   {
    "_defaultOrder": 45,
    "_isFastLaunch": false,
    "category": "Memory Optimized",
    "gpuNum": 0,
    "hideHardwareSpecs": false,
    "memoryGiB": 512,
    "name": "ml.r5.16xlarge",
    "vcpuNum": 64
   },
   {
    "_defaultOrder": 46,
    "_isFastLaunch": false,
    "category": "Memory Optimized",
    "gpuNum": 0,
    "hideHardwareSpecs": false,
    "memoryGiB": 768,
    "name": "ml.r5.24xlarge",
    "vcpuNum": 96
   },
   {
    "_defaultOrder": 47,
    "_isFastLaunch": false,
    "category": "Accelerated computing",
    "gpuNum": 1,
    "hideHardwareSpecs": false,
    "memoryGiB": 16,
    "name": "ml.g5.xlarge",
    "vcpuNum": 4
   },
   {
    "_defaultOrder": 48,
    "_isFastLaunch": false,
    "category": "Accelerated computing",
    "gpuNum": 1,
    "hideHardwareSpecs": false,
    "memoryGiB": 32,
    "name": "ml.g5.2xlarge",
    "vcpuNum": 8
   },
   {
    "_defaultOrder": 49,
    "_isFastLaunch": false,
    "category": "Accelerated computing",
    "gpuNum": 1,
    "hideHardwareSpecs": false,
    "memoryGiB": 64,
    "name": "ml.g5.4xlarge",
    "vcpuNum": 16
   },
   {
    "_defaultOrder": 50,
    "_isFastLaunch": false,
    "category": "Accelerated computing",
    "gpuNum": 1,
    "hideHardwareSpecs": false,
    "memoryGiB": 128,
    "name": "ml.g5.8xlarge",
    "vcpuNum": 32
   },
   {
    "_defaultOrder": 51,
    "_isFastLaunch": false,
    "category": "Accelerated computing",
    "gpuNum": 1,
    "hideHardwareSpecs": false,
    "memoryGiB": 256,
    "name": "ml.g5.16xlarge",
    "vcpuNum": 64
   },
   {
    "_defaultOrder": 52,
    "_isFastLaunch": false,
    "category": "Accelerated computing",
    "gpuNum": 4,
    "hideHardwareSpecs": false,
    "memoryGiB": 192,
    "name": "ml.g5.12xlarge",
    "vcpuNum": 48
   },
   {
    "_defaultOrder": 53,
    "_isFastLaunch": false,
    "category": "Accelerated computing",
    "gpuNum": 4,
    "hideHardwareSpecs": false,
    "memoryGiB": 384,
    "name": "ml.g5.24xlarge",
    "vcpuNum": 96
   },
   {
    "_defaultOrder": 54,
    "_isFastLaunch": false,
    "category": "Accelerated computing",
    "gpuNum": 8,
    "hideHardwareSpecs": false,
    "memoryGiB": 768,
    "name": "ml.g5.48xlarge",
    "vcpuNum": 192
   },
   {
    "_defaultOrder": 55,
    "_isFastLaunch": false,
    "category": "Accelerated computing",
    "gpuNum": 8,
    "hideHardwareSpecs": false,
    "memoryGiB": 1152,
    "name": "ml.p4d.24xlarge",
    "vcpuNum": 96
   },
   {
    "_defaultOrder": 56,
    "_isFastLaunch": false,
    "category": "Accelerated computing",
    "gpuNum": 8,
    "hideHardwareSpecs": false,
    "memoryGiB": 1152,
    "name": "ml.p4de.24xlarge",
    "vcpuNum": 96
   },
   {
    "_defaultOrder": 57,
    "_isFastLaunch": false,
    "category": "Accelerated computing",
    "gpuNum": 0,
    "hideHardwareSpecs": false,
    "memoryGiB": 32,
    "name": "ml.trn1.2xlarge",
    "vcpuNum": 8
   },
   {
    "_defaultOrder": 58,
    "_isFastLaunch": false,
    "category": "Accelerated computing",
    "gpuNum": 0,
    "hideHardwareSpecs": false,
    "memoryGiB": 512,
    "name": "ml.trn1.32xlarge",
    "vcpuNum": 128
   },
   {
    "_defaultOrder": 59,
    "_isFastLaunch": false,
    "category": "Accelerated computing",
    "gpuNum": 0,
    "hideHardwareSpecs": false,
    "memoryGiB": 512,
    "name": "ml.trn1n.32xlarge",
    "vcpuNum": 128
   }
  ],
  "instance_type": "ml.t3.medium",
  "kernelspec": {
   "display_name": "Python 3 (ipykernel)",
   "language": "python",
   "name": "python3"
  },
  "language_info": {
   "codemirror_mode": {
    "name": "ipython",
    "version": 3
   },
   "file_extension": ".py",
   "mimetype": "text/x-python",
   "name": "python",
   "nbconvert_exporter": "python",
   "pygments_lexer": "ipython3",
   "version": "3.10.14"
  }
 },
 "nbformat": 4,
 "nbformat_minor": 5
}
